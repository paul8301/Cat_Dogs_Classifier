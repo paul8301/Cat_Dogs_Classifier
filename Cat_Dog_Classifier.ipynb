{
  "nbformat": 4,
  "nbformat_minor": 0,
  "metadata": {
    "colab": {
      "provenance": []
    },
    "kernelspec": {
      "name": "python3",
      "display_name": "Python 3"
    },
    "language_info": {
      "name": "python"
    }
  },
  "cells": [
    {
      "cell_type": "markdown",
      "source": [
        "# Imports"
      ],
      "metadata": {
        "id": "82JnAAjTqGTT"
      }
    },
    {
      "cell_type": "code",
      "execution_count": 1,
      "metadata": {
        "id": "-opTCFcYp2Qc"
      },
      "outputs": [],
      "source": [
        "import os\n",
        "import pandas as pd\n",
        "import torch\n",
        "import torch.nn as nn\n",
        "import torch.optim as optim\n",
        "import torchvision.transforms as transforms\n",
        "import torchvision\n",
        "from torch.utils.data import DataLoader\n",
        "from torch.utils.data import Dataset\n",
        "from skimage import io"
      ]
    },
    {
      "cell_type": "markdown",
      "source": [
        "# Dataset Loader"
      ],
      "metadata": {
        "id": "uNS5lsylqU9-"
      }
    },
    {
      "cell_type": "code",
      "source": [
        "class CatsAndDogDataset(Dataset):\n",
        "  def __init__(self, csv_file, root_dir, transform=None):\n",
        "    self.annotations = pd.read_csv(csv_file)\n",
        "    self.root_dir = root_dir\n",
        "    self.transform = transform\n",
        "\n",
        "  def __len__(self):\n",
        "    return len(self.annotations)\n",
        "\n",
        "  def __getitem__(self, index):\n",
        "    img_path = os.path.join(self.root_dir, self.annotations.iloc[index, 0])\n",
        "    image = io.imread(img_path)\n",
        "    y_label = torch.tensor(int(self.annotations.iloc[index, 1]))\n",
        "\n",
        "    if self.transform:\n",
        "      image = self.transform(image)\n",
        "\n",
        "    return (image, y_label)"
      ],
      "metadata": {
        "id": "7MgkdJhvqX6g"
      },
      "execution_count": null,
      "outputs": []
    },
    {
      "cell_type": "markdown",
      "source": [
        "# Set device"
      ],
      "metadata": {
        "id": "BhZ5-WQmui9n"
      }
    },
    {
      "cell_type": "code",
      "source": [
        "device = torch.device('cuda' if torch.cuda.is_available() else 'cpu')"
      ],
      "metadata": {
        "id": "uDx5_bFAulVZ"
      },
      "execution_count": null,
      "outputs": []
    },
    {
      "cell_type": "markdown",
      "source": [
        "# Hyperparameters"
      ],
      "metadata": {
        "id": "G5Y8TDVwuzq3"
      }
    },
    {
      "cell_type": "code",
      "source": [
        "in_channel = 3\n",
        "num_classes = 10\n",
        "learning_rate = 1e-3\n",
        "batch_size = 32\n",
        "num_epochs = 1"
      ],
      "metadata": {
        "id": "9BGWnPgtu1eJ"
      },
      "execution_count": null,
      "outputs": []
    },
    {
      "cell_type": "markdown",
      "source": [
        "# Load Data"
      ],
      "metadata": {
        "id": "gDvFFbBsvrWw"
      }
    },
    {
      "cell_type": "code",
      "source": [
        "dataset = CatsAndDogDataset(csv_file = 'cats_dogs.csv', root_dir = 'cats_dogs_resized', transform=transforms.ToTensor())\n",
        "train_set, test_set = torch.utils.data.random_split(dataset, [20000, 5000])\n",
        "train_loader = DataLoader(dataset=train_set, batch_size=batch_size, shuffle=True)\n",
        "test_loader = DataLoader(dataset=test_set, batch_size=batch_size, shuffle=True)\n"
      ],
      "metadata": {
        "id": "tzC9Pm3_vtnz"
      },
      "execution_count": null,
      "outputs": []
    },
    {
      "cell_type": "markdown",
      "source": [
        "# Model"
      ],
      "metadata": {
        "id": "ZQqwBGlTvAUd"
      }
    },
    {
      "cell_type": "code",
      "source": [
        "model = torchvision.models.googlenet(pretrained=True)\n",
        "model.to(device)"
      ],
      "metadata": {
        "id": "M2vRgF5AvBkK"
      },
      "execution_count": null,
      "outputs": []
    },
    {
      "cell_type": "markdown",
      "source": [
        "# Loss and Optimizer"
      ],
      "metadata": {
        "id": "i_D2aK04vJm2"
      }
    },
    {
      "cell_type": "code",
      "source": [
        "criterion = nn.CrossEntropyLoss()\n",
        "optimizer = optim.Adam(model.parameters(), lr = learning_rate)"
      ],
      "metadata": {
        "id": "tLzZbc_7vLbr"
      },
      "execution_count": null,
      "outputs": []
    },
    {
      "cell_type": "code",
      "source": [
        "def check_accuracy(loader, model):\n",
        "  num_correct = 0\n",
        "  num_samples = 0\n",
        "  model.eval\n",
        "\n",
        "  with torch.no_grad():\n",
        "    for x, y in loaderL\n",
        "    x = x.to(device=device)\n",
        "    y = y.to(device=device)\n",
        "\n",
        "    scores = model(x)\n",
        "    _, predictions = scores.max(1)\n",
        "    num_correct += (predictions==y).sum()\n",
        "    num_samples += predictions.size(0)\n",
        "\n",
        "  print(f'Got {num_correct} / {num_samples}with accuracy {float(num_correct)/float(num_samples) * 100}')\n",
        "  model.train()"
      ],
      "metadata": {
        "id": "SFKs9ZWXFUJV"
      },
      "execution_count": null,
      "outputs": []
    },
    {
      "cell_type": "markdown",
      "source": [
        "# Train Network"
      ],
      "metadata": {
        "id": "0_Y-0TrYvdP5"
      }
    },
    {
      "cell_type": "code",
      "source": [
        "for epoch in range(num_epochs):\n",
        "  losses = []\n",
        "\n",
        "  for batch_idx, (data, targets) in enumerate(train_loader):\n",
        "      data = data.to(device=device)\n",
        "      targets = targets.to(device=device)\n",
        "\n",
        "      scores = model(data)\n",
        "      loss = criterion(scores, targets)\n",
        "\n",
        "      losses.append(loss.item())\n",
        "\n",
        "      optimizer.zero_grad()\n",
        "      loss.backward()\n",
        "\n",
        "      optimizer.step()\n",
        "\n",
        "  print(f'Cost at each {epoch} is {sum(losses)/len(losses)}')\n",
        "print(\"Checking accuracy on Training Set\")\n",
        "check_accuracy(train_loader, model)\n",
        "\n",
        "print(\"Checking accuracy on Test Set\")\n",
        "check_accuracy(test_loader, model)\n",
        "\n"
      ],
      "metadata": {
        "id": "z08V2dXFvc9J"
      },
      "execution_count": null,
      "outputs": []
    }
  ]
}